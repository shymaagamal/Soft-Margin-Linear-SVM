{
 "metadata": {
  "language_info": {
   "codemirror_mode": {
    "name": "ipython",
    "version": 3
   },
   "file_extension": ".py",
   "mimetype": "text/x-python",
   "name": "python",
   "nbconvert_exporter": "python",
   "pygments_lexer": "ipython3",
   "version": "3.7.6-final"
  },
  "orig_nbformat": 2,
  "kernelspec": {
   "name": "python3",
   "display_name": "Python 3",
   "language": "python"
  }
 },
 "nbformat": 4,
 "nbformat_minor": 2,
 "cells": [
  {
   "cell_type": "code",
   "execution_count": 33,
   "metadata": {},
   "outputs": [],
   "source": [
    "import pandas as pd\n",
    "from sklearn import svm\n",
    "from sklearn.model_selection import train_test_split\n",
    "from sklearn import metrics\n",
    "import numpy as np\n",
    "import matplotlib.pyplot as plt\n",
    "from sklearn.preprocessing import StandardScaler\n",
    "from sklearn import preprocessing"
   ]
  },
  {
   "cell_type": "code",
   "execution_count": 34,
   "metadata": {},
   "outputs": [
    {
     "output_type": "execute_result",
     "data": {
      "text/plain": [
       "   0   1   2   3   4   5   6   7   8   9   ...  15  16  17  18  19  20  21  \\\n",
       "0   1   6   4  12   5   5   3   4   1  67  ...   0   0   1   0   0   1   0   \n",
       "1   2  48   2  60   1   3   2   2   1  22  ...   0   0   1   0   0   1   0   \n",
       "2   4  12   4  21   1   4   3   3   1  49  ...   0   0   1   0   0   1   0   \n",
       "3   1  42   2  79   1   4   3   4   2  45  ...   0   0   0   0   0   0   0   \n",
       "4   1  24   3  49   1   3   3   4   4  53  ...   1   0   1   0   0   0   0   \n",
       "\n",
       "   22  23  24  \n",
       "0   0   1   1  \n",
       "1   0   1   2  \n",
       "2   1   0   1  \n",
       "3   0   1   1  \n",
       "4   0   1   2  \n",
       "\n",
       "[5 rows x 25 columns]"
      ],
      "text/html": "<div>\n<style scoped>\n    .dataframe tbody tr th:only-of-type {\n        vertical-align: middle;\n    }\n\n    .dataframe tbody tr th {\n        vertical-align: top;\n    }\n\n    .dataframe thead th {\n        text-align: right;\n    }\n</style>\n<table border=\"1\" class=\"dataframe\">\n  <thead>\n    <tr style=\"text-align: right;\">\n      <th></th>\n      <th>0</th>\n      <th>1</th>\n      <th>2</th>\n      <th>3</th>\n      <th>4</th>\n      <th>5</th>\n      <th>6</th>\n      <th>7</th>\n      <th>8</th>\n      <th>9</th>\n      <th>...</th>\n      <th>15</th>\n      <th>16</th>\n      <th>17</th>\n      <th>18</th>\n      <th>19</th>\n      <th>20</th>\n      <th>21</th>\n      <th>22</th>\n      <th>23</th>\n      <th>24</th>\n    </tr>\n  </thead>\n  <tbody>\n    <tr>\n      <th>0</th>\n      <td>1</td>\n      <td>6</td>\n      <td>4</td>\n      <td>12</td>\n      <td>5</td>\n      <td>5</td>\n      <td>3</td>\n      <td>4</td>\n      <td>1</td>\n      <td>67</td>\n      <td>...</td>\n      <td>0</td>\n      <td>0</td>\n      <td>1</td>\n      <td>0</td>\n      <td>0</td>\n      <td>1</td>\n      <td>0</td>\n      <td>0</td>\n      <td>1</td>\n      <td>1</td>\n    </tr>\n    <tr>\n      <th>1</th>\n      <td>2</td>\n      <td>48</td>\n      <td>2</td>\n      <td>60</td>\n      <td>1</td>\n      <td>3</td>\n      <td>2</td>\n      <td>2</td>\n      <td>1</td>\n      <td>22</td>\n      <td>...</td>\n      <td>0</td>\n      <td>0</td>\n      <td>1</td>\n      <td>0</td>\n      <td>0</td>\n      <td>1</td>\n      <td>0</td>\n      <td>0</td>\n      <td>1</td>\n      <td>2</td>\n    </tr>\n    <tr>\n      <th>2</th>\n      <td>4</td>\n      <td>12</td>\n      <td>4</td>\n      <td>21</td>\n      <td>1</td>\n      <td>4</td>\n      <td>3</td>\n      <td>3</td>\n      <td>1</td>\n      <td>49</td>\n      <td>...</td>\n      <td>0</td>\n      <td>0</td>\n      <td>1</td>\n      <td>0</td>\n      <td>0</td>\n      <td>1</td>\n      <td>0</td>\n      <td>1</td>\n      <td>0</td>\n      <td>1</td>\n    </tr>\n    <tr>\n      <th>3</th>\n      <td>1</td>\n      <td>42</td>\n      <td>2</td>\n      <td>79</td>\n      <td>1</td>\n      <td>4</td>\n      <td>3</td>\n      <td>4</td>\n      <td>2</td>\n      <td>45</td>\n      <td>...</td>\n      <td>0</td>\n      <td>0</td>\n      <td>0</td>\n      <td>0</td>\n      <td>0</td>\n      <td>0</td>\n      <td>0</td>\n      <td>0</td>\n      <td>1</td>\n      <td>1</td>\n    </tr>\n    <tr>\n      <th>4</th>\n      <td>1</td>\n      <td>24</td>\n      <td>3</td>\n      <td>49</td>\n      <td>1</td>\n      <td>3</td>\n      <td>3</td>\n      <td>4</td>\n      <td>4</td>\n      <td>53</td>\n      <td>...</td>\n      <td>1</td>\n      <td>0</td>\n      <td>1</td>\n      <td>0</td>\n      <td>0</td>\n      <td>0</td>\n      <td>0</td>\n      <td>0</td>\n      <td>1</td>\n      <td>2</td>\n    </tr>\n  </tbody>\n</table>\n<p>5 rows × 25 columns</p>\n</div>"
     },
     "metadata": {},
     "execution_count": 34
    }
   ],
   "source": [
    "data=pd.read_csv('data.txt',sep=\" \", header=None)\n",
    "data.head(5)"
   ]
  },
  {
   "source": [
    "## Scores Function That Return scores of Ten trials "
   ],
   "cell_type": "markdown",
   "metadata": {}
  },
  {
   "cell_type": "code",
   "execution_count": 35,
   "metadata": {},
   "outputs": [],
   "source": [
    "def scores(X,y):\n",
    "    Score=[]\n",
    "    for i in range(10):\n",
    "        X_train, X_test, y_train, y_test = train_test_split(X, y, test_size=0.4)\n",
    "        classifier = svm.SVC(kernel='linear', C=1)\n",
    "        classifier.fit(X_train, y_train)\n",
    "        y_pred = classifier.predict(X_test)\n",
    "        Score.append(metrics.accuracy_score(y_test, y_pred)*100)    \n",
    "\n",
    "    return Score   \n"
   ]
  },
  {
   "source": [
    "## Problem One Part One"
   ],
   "cell_type": "markdown",
   "metadata": {}
  },
  {
   "cell_type": "code",
   "execution_count": 36,
   "metadata": {},
   "outputs": [],
   "source": [
    "col=data.shape[1]\n",
    "X=data.iloc[:,:col-1]\n",
    "y=data.iloc[:,col-1:col]"
   ]
  },
  {
   "cell_type": "code",
   "execution_count": 37,
   "metadata": {},
   "outputs": [
    {
     "output_type": "execute_result",
     "data": {
      "text/plain": [
       "[78.75, 74.375, 73.75, 75.625, 74.375, 74.375, 74.6875, 78.75, 75.625, 73.4375]"
      ]
     },
     "metadata": {},
     "execution_count": 37
    }
   ],
   "source": [
    "scores(X,y)"
   ]
  },
  {
   "source": [
    "## Problem One Part Two"
   ],
   "cell_type": "markdown",
   "metadata": {}
  },
  {
   "source": [
    "### Scale Data"
   ],
   "cell_type": "markdown",
   "metadata": {}
  },
  {
   "source": [
    "# Rule For Normalization Between -1 and 1\n",
    "\n",
    "## Sigmoidal normalization\n",
    "> It transforms the input data nonlinearly into the range -1 to 1, using a sigmoid function. \n",
    "\n",
    "\n",
    "## $X_{i}=\\frac{1-e^{-a}}{1+e^{-a}}$\n",
    "\n",
    "Where \n",
    "\n",
    "$a=\\frac{X_{i}-X_{mean}}{X_{std}}$"
   ],
   "cell_type": "markdown",
   "metadata": {}
  },
  {
   "cell_type": "code",
   "execution_count": 38,
   "metadata": {
    "tags": []
   },
   "outputs": [
    {
     "output_type": "execute_result",
     "data": {
      "text/plain": [
       "         0         1         2         3         4         5         6   \\\n",
       "0 -0.562898 -0.538909  0.584651 -0.348669  0.727249  0.583272  0.228812   \n",
       "1 -0.230291  0.809258 -0.247135  0.472669 -0.338857 -0.164055 -0.447078   \n",
       "2  0.515830 -0.341538  0.584651 -0.196808 -0.338857  0.245792  0.228812   \n",
       "3 -0.562898  0.705461 -0.247135  0.696679 -0.338857  0.245792  0.228812   \n",
       "4 -0.562898  0.136872  0.205598  0.302641 -0.338857 -0.164055  0.228812   \n",
       "\n",
       "         7         8         9   ...        15        16        17        18  \\\n",
       "0  0.480361 -0.567458  0.880322  ... -0.266504 -0.166162  0.155864 -0.098312   \n",
       "1 -0.362730 -0.567458 -0.525848  ... -0.266504 -0.166162  0.155864 -0.098312   \n",
       "2  0.071591 -0.567458  0.531736  ... -0.266504 -0.166162  0.155864 -0.098312   \n",
       "3  0.480361 -0.170881  0.395412  ... -0.266504 -0.166162 -0.919981 -0.098312   \n",
       "4  0.480361  0.646818  0.645138  ...  0.723181 -0.166162  0.155864 -0.098312   \n",
       "\n",
       "        19        20        21        22        23        24  \n",
       "0 -0.22616  0.307166 -0.073495 -0.245689  0.366147 -0.315056  \n",
       "1 -0.22616  0.307166 -0.073495 -0.245689  0.366147  0.644342  \n",
       "2 -0.22616  0.307166 -0.073495  0.759693 -0.571862 -0.315056  \n",
       "3 -0.22616 -0.656497 -0.073495 -0.245689  0.366147 -0.315056  \n",
       "4 -0.22616 -0.656497 -0.073495 -0.245689  0.366147  0.644342  \n",
       "\n",
       "[5 rows x 25 columns]"
      ],
      "text/html": "<div>\n<style scoped>\n    .dataframe tbody tr th:only-of-type {\n        vertical-align: middle;\n    }\n\n    .dataframe tbody tr th {\n        vertical-align: top;\n    }\n\n    .dataframe thead th {\n        text-align: right;\n    }\n</style>\n<table border=\"1\" class=\"dataframe\">\n  <thead>\n    <tr style=\"text-align: right;\">\n      <th></th>\n      <th>0</th>\n      <th>1</th>\n      <th>2</th>\n      <th>3</th>\n      <th>4</th>\n      <th>5</th>\n      <th>6</th>\n      <th>7</th>\n      <th>8</th>\n      <th>9</th>\n      <th>...</th>\n      <th>15</th>\n      <th>16</th>\n      <th>17</th>\n      <th>18</th>\n      <th>19</th>\n      <th>20</th>\n      <th>21</th>\n      <th>22</th>\n      <th>23</th>\n      <th>24</th>\n    </tr>\n  </thead>\n  <tbody>\n    <tr>\n      <th>0</th>\n      <td>-0.562898</td>\n      <td>-0.538909</td>\n      <td>0.584651</td>\n      <td>-0.348669</td>\n      <td>0.727249</td>\n      <td>0.583272</td>\n      <td>0.228812</td>\n      <td>0.480361</td>\n      <td>-0.567458</td>\n      <td>0.880322</td>\n      <td>...</td>\n      <td>-0.266504</td>\n      <td>-0.166162</td>\n      <td>0.155864</td>\n      <td>-0.098312</td>\n      <td>-0.22616</td>\n      <td>0.307166</td>\n      <td>-0.073495</td>\n      <td>-0.245689</td>\n      <td>0.366147</td>\n      <td>-0.315056</td>\n    </tr>\n    <tr>\n      <th>1</th>\n      <td>-0.230291</td>\n      <td>0.809258</td>\n      <td>-0.247135</td>\n      <td>0.472669</td>\n      <td>-0.338857</td>\n      <td>-0.164055</td>\n      <td>-0.447078</td>\n      <td>-0.362730</td>\n      <td>-0.567458</td>\n      <td>-0.525848</td>\n      <td>...</td>\n      <td>-0.266504</td>\n      <td>-0.166162</td>\n      <td>0.155864</td>\n      <td>-0.098312</td>\n      <td>-0.22616</td>\n      <td>0.307166</td>\n      <td>-0.073495</td>\n      <td>-0.245689</td>\n      <td>0.366147</td>\n      <td>0.644342</td>\n    </tr>\n    <tr>\n      <th>2</th>\n      <td>0.515830</td>\n      <td>-0.341538</td>\n      <td>0.584651</td>\n      <td>-0.196808</td>\n      <td>-0.338857</td>\n      <td>0.245792</td>\n      <td>0.228812</td>\n      <td>0.071591</td>\n      <td>-0.567458</td>\n      <td>0.531736</td>\n      <td>...</td>\n      <td>-0.266504</td>\n      <td>-0.166162</td>\n      <td>0.155864</td>\n      <td>-0.098312</td>\n      <td>-0.22616</td>\n      <td>0.307166</td>\n      <td>-0.073495</td>\n      <td>0.759693</td>\n      <td>-0.571862</td>\n      <td>-0.315056</td>\n    </tr>\n    <tr>\n      <th>3</th>\n      <td>-0.562898</td>\n      <td>0.705461</td>\n      <td>-0.247135</td>\n      <td>0.696679</td>\n      <td>-0.338857</td>\n      <td>0.245792</td>\n      <td>0.228812</td>\n      <td>0.480361</td>\n      <td>-0.170881</td>\n      <td>0.395412</td>\n      <td>...</td>\n      <td>-0.266504</td>\n      <td>-0.166162</td>\n      <td>-0.919981</td>\n      <td>-0.098312</td>\n      <td>-0.22616</td>\n      <td>-0.656497</td>\n      <td>-0.073495</td>\n      <td>-0.245689</td>\n      <td>0.366147</td>\n      <td>-0.315056</td>\n    </tr>\n    <tr>\n      <th>4</th>\n      <td>-0.562898</td>\n      <td>0.136872</td>\n      <td>0.205598</td>\n      <td>0.302641</td>\n      <td>-0.338857</td>\n      <td>-0.164055</td>\n      <td>0.228812</td>\n      <td>0.480361</td>\n      <td>0.646818</td>\n      <td>0.645138</td>\n      <td>...</td>\n      <td>0.723181</td>\n      <td>-0.166162</td>\n      <td>0.155864</td>\n      <td>-0.098312</td>\n      <td>-0.22616</td>\n      <td>-0.656497</td>\n      <td>-0.073495</td>\n      <td>-0.245689</td>\n      <td>0.366147</td>\n      <td>0.644342</td>\n    </tr>\n  </tbody>\n</table>\n<p>5 rows × 25 columns</p>\n</div>"
     },
     "metadata": {},
     "execution_count": 38
    }
   ],
   "source": [
    "import math\n",
    "data_scaled=pd.DataFrame()\n",
    "\n",
    "for column in data:\n",
    "   # Select column contents by column name using [] operator\n",
    "   a =(data[column]-data[column].mean())/data[column].std()\n",
    "   data_scaled[column]=(1-np.exp(-a))/(1+np.exp(-a))\n",
    "data_scaled.head()\n"
   ]
  },
  {
   "source": [
    "#### Use LabelEncoder tO Transform the Labels to 0 and 1"
   ],
   "cell_type": "markdown",
   "metadata": {}
  },
  {
   "cell_type": "code",
   "execution_count": 39,
   "metadata": {},
   "outputs": [],
   "source": [
    "\n",
    "X2=data_scaled.iloc[:,:col-1]\n",
    "y2=data_scaled.iloc[:,col-1:col]\n",
    "lab_enc = preprocessing.LabelEncoder()\n",
    "encoded = lab_enc.fit_transform(y2)"
   ]
  },
  {
   "cell_type": "code",
   "execution_count": 40,
   "metadata": {},
   "outputs": [
    {
     "output_type": "stream",
     "name": "stdout",
     "text": [
      "Score of Model with non Scaled data\n\n [75.625, 77.5, 78.75, 75.3125, 77.1875, 75.625, 73.4375, 75.625, 73.75, 78.125]\n\nScore of Model with Scaled data\n\n [77.1875, 76.25, 76.5625, 76.25, 73.75, 76.5625, 71.25, 73.4375, 71.5625, 73.125]\n"
     ]
    }
   ],
   "source": [
    "print('Score of Model with non Scaled data\\n\\n',scores(X,y))\n",
    "print('\\nScore of Model with Scaled data\\n\\n',scores(X2,pd.DataFrame(encoded)))"
   ]
  },
  {
   "source": [
    "### **Through Ten trials with Scaled and non-Scaled Data , Most of trials had higher score in scaled data than non scaled data. But because of data don't differ a lot  in range of attributes so difference in score was small  **\n",
    "\n",
    "> #### *Scaling Features with SVM is very important because it is avoiding attributes in greater numeric ranges dominating those in smaller numeric ranges.* \n",
    "\n"
   ],
   "cell_type": "markdown",
   "metadata": {}
  }
 ]
}